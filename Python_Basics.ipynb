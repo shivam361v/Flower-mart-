{
  "nbformat": 4,
  "nbformat_minor": 0,
  "metadata": {
    "colab": {
      "provenance": [],
      "authorship_tag": "ABX9TyOMMGBVcGNiuRKQKqi7SMsK",
      "include_colab_link": true
    },
    "kernelspec": {
      "name": "python3",
      "display_name": "Python 3"
    },
    "language_info": {
      "name": "python"
    }
  },
  "cells": [
    {
      "cell_type": "markdown",
      "metadata": {
        "id": "view-in-github",
        "colab_type": "text"
      },
      "source": [
        "<a href=\"https://colab.research.google.com/github/shivam361v/Flower-mart-/blob/main/Python_Basics.ipynb\" target=\"_parent\"><img src=\"https://colab.research.google.com/assets/colab-badge.svg\" alt=\"Open In Colab\"/></a>"
      ]
    },
    {
      "cell_type": "code",
      "execution_count": null,
      "metadata": {
        "colab": {
          "base_uri": "https://localhost:8080/"
        },
        "id": "rRuduXTqCiIe",
        "outputId": "8889e3eb-d89b-46d5-ab21-9e720af1dab1"
      },
      "outputs": [
        {
          "output_type": "stream",
          "name": "stdout",
          "text": [
            "Enter your name ?Shivam\n",
            "Hello Shivam\n"
          ]
        }
      ],
      "source": [
        "name = input(\"Enter your name ?\");\n",
        "print(\"Hello\", name);"
      ]
    },
    {
      "cell_type": "code",
      "source": [],
      "metadata": {
        "id": "Qc-jYrYt1fx4"
      },
      "execution_count": null,
      "outputs": []
    },
    {
      "cell_type": "code",
      "source": [],
      "metadata": {
        "id": "Vkakp8P_YPZd"
      },
      "execution_count": null,
      "outputs": []
    },
    {
      "cell_type": "code",
      "source": [
        "age = 24\n",
        "print(type(age))\n",
        "print(type(name))"
      ],
      "metadata": {
        "colab": {
          "base_uri": "https://localhost:8080/"
        },
        "id": "OaDLpLuGHnnN",
        "outputId": "0d531a0e-bf77-4f85-9f5c-1c62da0b2136"
      },
      "execution_count": null,
      "outputs": [
        {
          "output_type": "stream",
          "name": "stdout",
          "text": [
            "<class 'int'>\n",
            "<class 'str'>\n"
          ]
        }
      ]
    },
    {
      "cell_type": "code",
      "source": [
        "ShoppingList = input(\"Enter item to shop from market\");\n",
        "qty = [1, 2, 3, 4, 5];\n",
        "name = (\"Shivam\", \"Vishwakarma\");\n",
        "statement = \"{} will go to market to buy {}\";\n",
        "for x in qty:\n",
        "  print(x);\n",
        "if \"Shivam\" in name:\n",
        "  print(\"Yes, lets go to market\");\n",
        "print( name[1]);\n",
        "print(name[1].upper());\n",
        "print(name[0].split('v'));\n",
        "print(statement.format(name[0], name[1]));\n"
      ],
      "metadata": {
        "colab": {
          "base_uri": "https://localhost:8080/"
        },
        "id": "MtYXxQ6q7rzw",
        "outputId": "dd683f3b-d38b-4387-cd39-4259fc2c4d30"
      },
      "execution_count": null,
      "outputs": [
        {
          "output_type": "stream",
          "name": "stdout",
          "text": [
            "Enter item to shop from marketapple banana\n",
            "1\n",
            "2\n",
            "3\n",
            "4\n",
            "5\n",
            "Yes, lets go to market\n",
            "Vishwakarma\n",
            "VISHWAKARMA\n",
            "['Shi', 'am']\n",
            "Shivam will go to market to buy Vishwakarma\n"
          ]
        }
      ]
    },
    {
      "cell_type": "code",
      "source": [],
      "metadata": {
        "id": "t98VZGMhdgHd"
      },
      "execution_count": null,
      "outputs": []
    },
    {
      "cell_type": "code",
      "source": [
        "sum = 10 + 20;\n",
        "powers = 10 ** 2;\n",
        "name1 = \"shivam\";\n",
        "name2 = \"Shivam\";\n",
        "if sum <= powers :\n",
        "  print('true');\n",
        "if 's' in name1:\n",
        "  print(\"Name contains letter 's' \");\n",
        "if name1 is name2:\n",
        "\n",
        "  print(\"Both names are the same\");"
      ],
      "metadata": {
        "colab": {
          "base_uri": "https://localhost:8080/"
        },
        "id": "SE17B1KrUJLf",
        "outputId": "0b652924-fac1-4fe3-a56a-e2818d36c3ca"
      },
      "execution_count": null,
      "outputs": [
        {
          "output_type": "stream",
          "name": "stdout",
          "text": [
            "true\n",
            "Name contains letter 's' \n"
          ]
        }
      ]
    },
    {
      "cell_type": "code",
      "source": [
        "#List in python\n",
        "l1 = [1, 2, 3, 4, 5];\n",
        "for i in l1:\n",
        "  print(i);\n",
        "l1.append(6);\n",
        "for i in l1:\n",
        "  print(i);\n",
        "l1.clear()\n",
        "for i in l1:\n",
        "  print(i);\n"
      ],
      "metadata": {
        "colab": {
          "base_uri": "https://localhost:8080/"
        },
        "id": "9drH9te2uDRK",
        "outputId": "31c0b478-3750-4a8a-f1ed-e15363f60077"
      },
      "execution_count": null,
      "outputs": [
        {
          "output_type": "stream",
          "name": "stdout",
          "text": [
            "1\n",
            "2\n",
            "3\n",
            "4\n",
            "5\n",
            "1\n",
            "2\n",
            "3\n",
            "4\n",
            "5\n",
            "6\n"
          ]
        }
      ]
    },
    {
      "cell_type": "code",
      "source": [
        "#Tuple in python\n",
        "l2 = (1, 2, 3, 4);\n",
        "for i in l2:\n",
        "  print(i);\n",
        "\n",
        "l2 = list(l2);\n",
        "l2[3] = 5;\n",
        "l2 = tuple(l2);\n",
        "\n",
        "for i in l2:\n",
        "  print(i);\n",
        "del l2;\n",
        "\n",
        "for i in l2:\n",
        "  print(i);\n"
      ],
      "metadata": {
        "colab": {
          "base_uri": "https://localhost:8080/",
          "height": 366
        },
        "id": "B1JhsQ5tu7fr",
        "outputId": "f61e2195-2f23-4bad-c96c-8c112827954f"
      },
      "execution_count": null,
      "outputs": [
        {
          "output_type": "stream",
          "name": "stdout",
          "text": [
            "1\n",
            "2\n",
            "3\n",
            "4\n",
            "1\n",
            "2\n",
            "3\n",
            "5\n"
          ]
        },
        {
          "output_type": "error",
          "ename": "NameError",
          "evalue": "ignored",
          "traceback": [
            "\u001b[0;31m---------------------------------------------------------------------------\u001b[0m",
            "\u001b[0;31mNameError\u001b[0m                                 Traceback (most recent call last)",
            "\u001b[0;32m<ipython-input-7-81d5df141b2b>\u001b[0m in \u001b[0;36m<cell line: 14>\u001b[0;34m()\u001b[0m\n\u001b[1;32m     12\u001b[0m \u001b[0;32mdel\u001b[0m \u001b[0ml2\u001b[0m\u001b[0;34m;\u001b[0m\u001b[0;34m\u001b[0m\u001b[0;34m\u001b[0m\u001b[0m\n\u001b[1;32m     13\u001b[0m \u001b[0;34m\u001b[0m\u001b[0m\n\u001b[0;32m---> 14\u001b[0;31m \u001b[0;32mfor\u001b[0m \u001b[0mi\u001b[0m \u001b[0;32min\u001b[0m \u001b[0ml2\u001b[0m\u001b[0;34m:\u001b[0m\u001b[0;34m\u001b[0m\u001b[0;34m\u001b[0m\u001b[0m\n\u001b[0m\u001b[1;32m     15\u001b[0m   \u001b[0mprint\u001b[0m\u001b[0;34m(\u001b[0m\u001b[0mi\u001b[0m\u001b[0;34m)\u001b[0m\u001b[0;34m;\u001b[0m\u001b[0;34m\u001b[0m\u001b[0;34m\u001b[0m\u001b[0m\n",
            "\u001b[0;31mNameError\u001b[0m: name 'l2' is not defined"
          ]
        }
      ]
    },
    {
      "cell_type": "code",
      "source": [
        "#Set in python\n",
        "\n",
        "l3 = {1, 2, 3};\n",
        "for i in l3:\n",
        "  print(i);\n",
        "\n",
        "l3.add(3);\n",
        "\n",
        "for i in l3:\n",
        "  print(i);"
      ],
      "metadata": {
        "colab": {
          "base_uri": "https://localhost:8080/"
        },
        "id": "ZVNTxRDEwYGs",
        "outputId": "fd22c796-4c5f-413d-c850-24e7e1aff528"
      },
      "execution_count": null,
      "outputs": [
        {
          "output_type": "stream",
          "name": "stdout",
          "text": [
            "1\n",
            "2\n",
            "3\n",
            "1\n",
            "2\n",
            "3\n"
          ]
        }
      ]
    },
    {
      "cell_type": "code",
      "source": [
        "# Conditional and loops\n",
        "\n",
        "numbers = [1, 2, 3 , 4, 5 ];\n",
        "\n",
        "for i in numbers :\n",
        "  if i % 2 == 0:\n",
        "    print(\"Even\");\n",
        "  else:\n",
        "    print(\"Odd\");\n",
        "\n",
        "  if(i == 3):\n",
        "    continue;\n",
        "  if(i == 5):\n",
        "    break;\n",
        "  print(i);\n"
      ],
      "metadata": {
        "colab": {
          "base_uri": "https://localhost:8080/"
        },
        "id": "e9999m8PKz3p",
        "outputId": "824692d5-fcff-4218-c510-f4de7bcd96a1"
      },
      "execution_count": null,
      "outputs": [
        {
          "output_type": "stream",
          "name": "stdout",
          "text": [
            "Odd\n",
            "1\n",
            "Even\n",
            "2\n",
            "Odd\n",
            "Even\n",
            "4\n",
            "Odd\n"
          ]
        }
      ]
    },
    {
      "cell_type": "markdown",
      "source": [
        "# New Section"
      ],
      "metadata": {
        "id": "y3-aUKYF2_bd"
      }
    },
    {
      "cell_type": "markdown",
      "source": [
        "# New Section"
      ],
      "metadata": {
        "id": "XRV2QiXU3ACw"
      }
    },
    {
      "cell_type": "code",
      "source": [
        "def function():\n",
        "  print(\"This is first function\");\n",
        "function()"
      ],
      "metadata": {
        "colab": {
          "base_uri": "https://localhost:8080/"
        },
        "id": "outrrLVcSc4u",
        "outputId": "7e2d41eb-15d3-41ff-e0f1-2411ebacde73"
      },
      "execution_count": null,
      "outputs": [
        {
          "output_type": "stream",
          "name": "stdout",
          "text": [
            "This is first function\n"
          ]
        }
      ]
    },
    {
      "cell_type": "markdown",
      "source": [
        "print(\"Black dove, where are you going ?\")\n"
      ],
      "metadata": {
        "id": "eT89FsqsYQ4j"
      }
    },
    {
      "cell_type": "markdown",
      "source": [
        "number = 10\n",
        "type(number)"
      ],
      "metadata": {
        "id": "wgsLSb-7YhGG"
      }
    },
    {
      "cell_type": "code",
      "source": [
        "number = 10\n",
        "type(number)\n",
        "\n"
      ],
      "metadata": {
        "colab": {
          "base_uri": "https://localhost:8080/"
        },
        "id": "XTQg_0RaYtAV",
        "outputId": "6f374e29-8a01-4a4c-f86d-bac56820b6aa"
      },
      "execution_count": null,
      "outputs": [
        {
          "output_type": "execute_result",
          "data": {
            "text/plain": [
              "int"
            ]
          },
          "metadata": {},
          "execution_count": 3
        }
      ]
    },
    {
      "cell_type": "code",
      "source": [
        "str(number)"
      ],
      "metadata": {
        "colab": {
          "base_uri": "https://localhost:8080/",
          "height": 36
        },
        "id": "c_5sJsPCYyKs",
        "outputId": "24da40a4-dd32-49e8-9406-89a0af571ff3"
      },
      "execution_count": null,
      "outputs": [
        {
          "output_type": "execute_result",
          "data": {
            "text/plain": [
              "'10'"
            ],
            "application/vnd.google.colaboratory.intrinsic+json": {
              "type": "string"
            }
          },
          "metadata": {},
          "execution_count": 4
        }
      ]
    },
    {
      "cell_type": "code",
      "source": [
        "def greeting(name):\n",
        "  print(\"Ram Ram \" + name)\n",
        "\n",
        "def AreaOfTriangele(n1, n2):\n",
        "  return 0.5 * n1 * n2\n",
        "\n",
        "\n",
        "greeting('shivam')\n",
        "AreaOfTriangele(10, 20)"
      ],
      "metadata": {
        "colab": {
          "base_uri": "https://localhost:8080/"
        },
        "id": "yrid80AOY6wx",
        "outputId": "0647663b-d318-4bd1-cea5-7677ecccc562"
      },
      "execution_count": null,
      "outputs": [
        {
          "output_type": "stream",
          "name": "stdout",
          "text": [
            "Ram Ram shivam\n"
          ]
        },
        {
          "output_type": "execute_result",
          "data": {
            "text/plain": [
              "100.0"
            ]
          },
          "metadata": {},
          "execution_count": 8
        }
      ]
    },
    {
      "cell_type": "code",
      "source": [
        "print('cat' < 'dog')"
      ],
      "metadata": {
        "colab": {
          "base_uri": "https://localhost:8080/"
        },
        "id": "eVElNMJkaonj",
        "outputId": "16a0a6b7-d46d-454c-af4a-70980b700789"
      },
      "execution_count": null,
      "outputs": [
        {
          "output_type": "stream",
          "name": "stdout",
          "text": [
            "True\n"
          ]
        }
      ]
    },
    {
      "cell_type": "code",
      "source": [
        "print(1 != \"1\")"
      ],
      "metadata": {
        "colab": {
          "base_uri": "https://localhost:8080/"
        },
        "id": "02sRNsT4bUSV",
        "outputId": "65028bdd-0fc0-476d-b9e2-e7cdd40ae4ae"
      },
      "execution_count": null,
      "outputs": [
        {
          "output_type": "stream",
          "name": "stdout",
          "text": [
            "True\n"
          ]
        }
      ]
    },
    {
      "cell_type": "code",
      "source": [
        "print(\"Y\" > \"C \" and \"B\" > \"M\")"
      ],
      "metadata": {
        "colab": {
          "base_uri": "https://localhost:8080/"
        },
        "id": "0cfaLdECbl-J",
        "outputId": "7ea0e593-5993-4eb2-ab5a-4306c120203c"
      },
      "execution_count": null,
      "outputs": [
        {
          "output_type": "stream",
          "name": "stdout",
          "text": [
            "False\n"
          ]
        }
      ]
    },
    {
      "cell_type": "code",
      "source": [
        "print( not 42 == \"Ans\")"
      ],
      "metadata": {
        "colab": {
          "base_uri": "https://localhost:8080/"
        },
        "id": "wujUGaTWbwjq",
        "outputId": "27d367e9-ebe4-4804-cdb1-d272c4387255"
      },
      "execution_count": null,
      "outputs": [
        {
          "output_type": "stream",
          "name": "stdout",
          "text": [
            "True\n"
          ]
        }
      ]
    },
    {
      "cell_type": "code",
      "source": [
        "def do_even(number):\n",
        "  return 0 == number % 2\n",
        "\n",
        "do_even(0)"
      ],
      "metadata": {
        "colab": {
          "base_uri": "https://localhost:8080/"
        },
        "id": "B3RdPztRcLUb",
        "outputId": "ac68bb01-ac87-4daf-ff90-709246882811"
      },
      "execution_count": null,
      "outputs": [
        {
          "output_type": "execute_result",
          "data": {
            "text/plain": [
              "True"
            ]
          },
          "metadata": {},
          "execution_count": 16
        }
      ]
    },
    {
      "cell_type": "code",
      "source": [
        "x = 0\n",
        "while (x < 5):\n",
        "  #print(\"x = \" + str(x))\n",
        "  x += 1\n",
        "  print(\"x = \" + str(x))"
      ],
      "metadata": {
        "colab": {
          "base_uri": "https://localhost:8080/"
        },
        "id": "es-29BepdhW2",
        "outputId": "f80b5154-1e6a-4824-e16b-7637beadc7d7"
      },
      "execution_count": null,
      "outputs": [
        {
          "output_type": "stream",
          "name": "stdout",
          "text": [
            "x = 1\n",
            "x = 2\n",
            "x = 3\n",
            "x = 4\n",
            "x = 5\n"
          ]
        }
      ]
    },
    {
      "cell_type": "code",
      "source": [
        "import random\n",
        "\n",
        "random_number = random.randint(1, 10)\n",
        "number_of_guess = 0\n",
        "\n",
        "while (number_of_guess < 5):\n",
        "  number = input()\n",
        "  number = int(number)\n",
        "  number_of_guess += 1\n",
        "  if(number == random_number):\n",
        "    print(\"You guessed right.\")\n",
        "    break\n",
        "  elif(number_of_guess >= 5):\n",
        "    print(\"Try again chance over.\")\n",
        "    break\n"
      ],
      "metadata": {
        "colab": {
          "base_uri": "https://localhost:8080/"
        },
        "id": "uasUjvIBhLf4",
        "outputId": "69a70d43-1c40-4bdf-a333-677cf6c0aea5"
      },
      "execution_count": null,
      "outputs": [
        {
          "output_type": "stream",
          "name": "stdout",
          "text": [
            "4\n",
            "5\n",
            "You guessed right.\n"
          ]
        }
      ]
    },
    {
      "cell_type": "code",
      "source": [
        "def to_celsius(temperature):\n",
        "  return ((temperature - 32) * 5) / 9\n",
        "\n",
        "for i in range(0, 100, 10):\n",
        "  print(round(to_celsius(i)), 2)"
      ],
      "metadata": {
        "colab": {
          "base_uri": "https://localhost:8080/"
        },
        "id": "9aOKqNQjkgeT",
        "outputId": "14ae9a29-30b8-4837-ce13-5add6f8f24b6"
      },
      "execution_count": null,
      "outputs": [
        {
          "output_type": "stream",
          "name": "stdout",
          "text": [
            "-18 2\n",
            "-12 2\n",
            "-7 2\n",
            "-1 2\n",
            "4 2\n",
            "10 2\n",
            "16 2\n",
            "21 2\n",
            "27 2\n",
            "32 2\n"
          ]
        }
      ]
    },
    {
      "cell_type": "code",
      "source": [
        "name = \"shivam \\n\"  #String multiplication\n",
        "print(name * 5)"
      ],
      "metadata": {
        "colab": {
          "base_uri": "https://localhost:8080/"
        },
        "id": "jkkPgsm7k7nQ",
        "outputId": "1c138562-2b11-49e0-ef3e-c3e2d79a78da"
      },
      "execution_count": null,
      "outputs": [
        {
          "output_type": "stream",
          "name": "stdout",
          "text": [
            "shivam \n",
            "shivam \n",
            "shivam \n",
            "shivam \n",
            "shivam \n",
            "\n"
          ]
        }
      ]
    },
    {
      "cell_type": "code",
      "source": [
        "for i in name:\n",
        "  print(i + \" \\n\")"
      ],
      "metadata": {
        "colab": {
          "base_uri": "https://localhost:8080/"
        },
        "id": "6MaJaux-mXiw",
        "outputId": "957f5690-4ebf-4cd2-8622-8d1f42ccb849"
      },
      "execution_count": null,
      "outputs": [
        {
          "output_type": "stream",
          "name": "stdout",
          "text": [
            "s \n",
            "\n",
            "h \n",
            "\n",
            "i \n",
            "\n",
            "v \n",
            "\n",
            "a \n",
            "\n",
            "m \n",
            "\n",
            "  \n",
            "\n",
            "\n",
            " \n",
            "\n"
          ]
        }
      ]
    },
    {
      "cell_type": "code",
      "source": [
        "name.index('s')"
      ],
      "metadata": {
        "colab": {
          "base_uri": "https://localhost:8080/"
        },
        "id": "AhSI2IxLmmq6",
        "outputId": "ddee1c70-4e3a-4dc9-edd7-dcf29782a146"
      },
      "execution_count": null,
      "outputs": [
        {
          "output_type": "execute_result",
          "data": {
            "text/plain": [
              "0"
            ]
          },
          "metadata": {},
          "execution_count": 14
        }
      ]
    },
    {
      "cell_type": "code",
      "source": [
        "name[1]"
      ],
      "metadata": {
        "colab": {
          "base_uri": "https://localhost:8080/",
          "height": 36
        },
        "id": "-55OXKixmwMI",
        "outputId": "43514ef2-d6c5-41e0-8ca1-bb8e62daa4f3"
      },
      "execution_count": null,
      "outputs": [
        {
          "output_type": "execute_result",
          "data": {
            "text/plain": [
              "'h'"
            ],
            "application/vnd.google.colaboratory.intrinsic+json": {
              "type": "string"
            }
          },
          "metadata": {},
          "execution_count": 15
        }
      ]
    },
    {
      "cell_type": "code",
      "source": [
        "name[-3]"
      ],
      "metadata": {
        "colab": {
          "base_uri": "https://localhost:8080/",
          "height": 36
        },
        "id": "2Nkbj3vSmrXh",
        "outputId": "56827bb4-28e8-4678-d9dd-517d824220fe"
      },
      "execution_count": null,
      "outputs": [
        {
          "output_type": "execute_result",
          "data": {
            "text/plain": [
              "'m'"
            ],
            "application/vnd.google.colaboratory.intrinsic+json": {
              "type": "string"
            }
          },
          "metadata": {},
          "execution_count": 18
        }
      ]
    },
    {
      "cell_type": "code",
      "source": [
        "\n",
        "print(name[1:m 3])"
      ],
      "metadata": {
        "colab": {
          "base_uri": "https://localhost:8080/"
        },
        "id": "A-V2Kf0mm9fQ",
        "outputId": "801331af-3003-4439-e385-3ff68f1604b1"
      },
      "execution_count": null,
      "outputs": [
        {
          "output_type": "stream",
          "name": "stdout",
          "text": [
            "hi\n"
          ]
        }
      ]
    },
    {
      "cell_type": "code",
      "source": [
        "\"va\" in name"
      ],
      "metadata": {
        "colab": {
          "base_uri": "https://localhost:8080/"
        },
        "id": "vhFFgxyWnIxO",
        "outputId": "8a0ce0ec-e762-4a41-e08a-3bee7aceacd0"
      },
      "execution_count": null,
      "outputs": [
        {
          "output_type": "execute_result",
          "data": {
            "text/plain": [
              "True"
            ]
          },
          "metadata": {},
          "execution_count": 22
        }
      ]
    },
    {
      "cell_type": "code",
      "source": [
        "print(\"my name is {}\".format(name))"
      ],
      "metadata": {
        "colab": {
          "base_uri": "https://localhost:8080/"
        },
        "id": "OxRi6GOgnTPD",
        "outputId": "8f182903-3537-4a85-a880-441aae2b47cd"
      },
      "execution_count": null,
      "outputs": [
        {
          "output_type": "stream",
          "name": "stdout",
          "text": [
            "my name is shivam \n",
            "\n"
          ]
        }
      ]
    },
    {
      "cell_type": "code",
      "source": [
        "print(\"i have ${} rupee\".format(500))"
      ],
      "metadata": {
        "colab": {
          "base_uri": "https://localhost:8080/"
        },
        "id": "mrJ-EP5Tnjf9",
        "outputId": "1249de1b-86f8-4e89-812e-7a2c9e0d72a3"
      },
      "execution_count": null,
      "outputs": [
        {
          "output_type": "stream",
          "name": "stdout",
          "text": [
            "i have $500 rupee\n"
          ]
        }
      ]
    },
    {
      "cell_type": "code",
      "source": [
        "for i in range(10):\n",
        "  print(i)"
      ],
      "metadata": {
        "colab": {
          "base_uri": "https://localhost:8080/"
        },
        "id": "a-J5eTazp0dy",
        "outputId": "9f499119-dd04-445d-f36b-201b8086378f"
      },
      "execution_count": null,
      "outputs": [
        {
          "output_type": "stream",
          "name": "stdout",
          "text": [
            "0\n",
            "1\n",
            "2\n",
            "3\n",
            "4\n",
            "5\n",
            "6\n",
            "7\n",
            "8\n",
            "9\n"
          ]
        }
      ]
    },
    {
      "cell_type": "code",
      "source": [
        "accessories =[\"bag\", \"laptop\", \"phone\", \"earbuds\", \"wallet\", \"speaker\", \"snacks\"]\n",
        "print(accessories[-1])"
      ],
      "metadata": {
        "colab": {
          "base_uri": "https://localhost:8080/"
        },
        "id": "MK30y9Fc1hAY",
        "outputId": "096a4a57-1a7b-4e7f-99b1-3a59d399bbed"
      },
      "execution_count": null,
      "outputs": [
        {
          "output_type": "stream",
          "name": "stdout",
          "text": [
            "snacks\n"
          ]
        }
      ]
    },
    {
      "cell_type": "code",
      "source": [
        "print(accessories[10])"
      ],
      "metadata": {
        "colab": {
          "base_uri": "https://localhost:8080/",
          "height": 182
        },
        "id": "omjLObqQ187n",
        "outputId": "806d8ad8-c8d4-4d78-b02e-69a50a9971b9"
      },
      "execution_count": null,
      "outputs": [
        {
          "output_type": "error",
          "ename": "IndexError",
          "evalue": "list index out of range",
          "traceback": [
            "\u001b[0;31m---------------------------------------------------------------------------\u001b[0m",
            "\u001b[0;31mIndexError\u001b[0m                                Traceback (most recent call last)",
            "\u001b[0;32m<ipython-input-4-53e44ea286fd>\u001b[0m in \u001b[0;36m<cell line: 1>\u001b[0;34m()\u001b[0m\n\u001b[0;32m----> 1\u001b[0;31m \u001b[0mprint\u001b[0m\u001b[0;34m(\u001b[0m\u001b[0maccessories\u001b[0m\u001b[0;34m[\u001b[0m\u001b[0;36m10\u001b[0m\u001b[0;34m]\u001b[0m\u001b[0;34m)\u001b[0m\u001b[0;34m\u001b[0m\u001b[0;34m\u001b[0m\u001b[0m\n\u001b[0m",
            "\u001b[0;31mIndexError\u001b[0m: list index out of range"
          ]
        }
      ]
    },
    {
      "cell_type": "code",
      "source": [
        "print(accessories[1: 3])"
      ],
      "metadata": {
        "colab": {
          "base_uri": "https://localhost:8080/"
        },
        "id": "McqR1ybf2RjK",
        "outputId": "1ce19de0-9def-4dfa-fac1-7097426de9ae"
      },
      "execution_count": null,
      "outputs": [
        {
          "output_type": "stream",
          "name": "stdout",
          "text": [
            "['laptop', 'phone']\n"
          ]
        }
      ]
    },
    {
      "cell_type": "code",
      "source": [
        "print(accessories[:5])"
      ],
      "metadata": {
        "colab": {
          "base_uri": "https://localhost:8080/"
        },
        "id": "1gDu4RFI2XLY",
        "outputId": "89a4d197-7c58-4b02-ef6c-3fc1195c3456"
      },
      "execution_count": null,
      "outputs": [
        {
          "output_type": "stream",
          "name": "stdout",
          "text": [
            "['bag', 'laptop', 'phone', 'earbuds', 'wallet']\n"
          ]
        }
      ]
    },
    {
      "cell_type": "code",
      "source": [
        "type(accessories)"
      ],
      "metadata": {
        "colab": {
          "base_uri": "https://localhost:8080/"
        },
        "id": "07ivFvXp2dXW",
        "outputId": "528f3a80-64a2-4aa1-8bfb-2eeb9d32d79b"
      },
      "execution_count": null,
      "outputs": [
        {
          "output_type": "execute_result",
          "data": {
            "text/plain": [
              "list"
            ]
          },
          "metadata": {},
          "execution_count": 7
        }
      ]
    },
    {
      "cell_type": "code",
      "source": [
        "\"shoe\" in  accessories"
      ],
      "metadata": {
        "colab": {
          "base_uri": "https://localhost:8080/"
        },
        "id": "4tnMr2FH2ht1",
        "outputId": "a9dc4426-4f7d-4cdf-fe18-595cd2ad6540"
      },
      "execution_count": null,
      "outputs": [
        {
          "output_type": "execute_result",
          "data": {
            "text/plain": [
              "False"
            ]
          },
          "metadata": {},
          "execution_count": 8
        }
      ]
    },
    {
      "cell_type": "code",
      "source": [
        "accessories.append(\"shoes\")"
      ],
      "metadata": {
        "id": "CgL-kr0z2tGw"
      },
      "execution_count": null,
      "outputs": []
    },
    {
      "cell_type": "code",
      "source": [
        "accessories.insert(0, \"chocolates\")\n",
        "print(accessories)"
      ],
      "metadata": {
        "colab": {
          "base_uri": "https://localhost:8080/"
        },
        "id": "ZMNjLGVM22Ue",
        "outputId": "9fb0830e-4e25-4844-bf2e-002facb1424c"
      },
      "execution_count": null,
      "outputs": [
        {
          "output_type": "stream",
          "name": "stdout",
          "text": [
            "['chocolates', 'chocolates', 'bag', 'laptop', 'phone', 'earbuds', 'wallet', 'speaker', 'snacks', 'shoes']\n"
          ]
        }
      ]
    },
    {
      "cell_type": "code",
      "source": [
        "accessories.remove('bag')\n",
        "print(accessories)"
      ],
      "metadata": {
        "colab": {
          "base_uri": "https://localhost:8080/"
        },
        "id": "UlDq3R6I3Gx0",
        "outputId": "b0880222-7bf4-44a9-d4d4-827b6122a63c"
      },
      "execution_count": null,
      "outputs": [
        {
          "output_type": "stream",
          "name": "stdout",
          "text": [
            "['chocolates', 'chocolates', 'laptop', 'phone', 'earbuds', 'wallet', 'speaker', 'snacks']\n"
          ]
        }
      ]
    },
    {
      "cell_type": "code",
      "source": [
        "accessories.pop()\n",
        "print(accessories)"
      ],
      "metadata": {
        "colab": {
          "base_uri": "https://localhost:8080/"
        },
        "id": "EA7w4mz_3qGM",
        "outputId": "8e702248-9ecf-434e-b911-67d54e49f887"
      },
      "execution_count": null,
      "outputs": [
        {
          "output_type": "stream",
          "name": "stdout",
          "text": [
            "['chocolates', 'chocolates', 'laptop', 'phone', 'earbuds', 'wallet', 'speaker']\n"
          ]
        }
      ]
    },
    {
      "cell_type": "code",
      "source": [
        "accessories[1] = \"DarkChocolate\"\n",
        "print(accessories)"
      ],
      "metadata": {
        "colab": {
          "base_uri": "https://localhost:8080/"
        },
        "id": "ygYAbF3B35Qi",
        "outputId": "e38f914d-8fe4-4266-e7d8-e3fda3da2a50"
      },
      "execution_count": null,
      "outputs": [
        {
          "output_type": "stream",
          "name": "stdout",
          "text": [
            "['chocolates', 'DarkChocolate', 'laptop', 'phone', 'earbuds', 'wallet', 'speaker']\n"
          ]
        }
      ]
    },
    {
      "cell_type": "code",
      "source": [
        "horse_power = \"746\"\n",
        "horse_power = horse_power + \" watt\"\n",
        "print(horse_power)"
      ],
      "metadata": {
        "colab": {
          "base_uri": "https://localhost:8080/"
        },
        "id": "0LZTvb3f4ITF",
        "outputId": "4c20fb02-5655-4d0e-9d14-7041dc3a2b17"
      },
      "execution_count": null,
      "outputs": [
        {
          "output_type": "stream",
          "name": "stdout",
          "text": [
            "746 watt\n"
          ]
        }
      ]
    },
    {
      "cell_type": "code",
      "source": [
        "name = (\"shivam\", \"vishwakarma\")\n",
        "print(name)\n"
      ],
      "metadata": {
        "colab": {
          "base_uri": "https://localhost:8080/"
        },
        "id": "9oVMUikI4ppD",
        "outputId": "49c74a16-b053-46a2-bc89-b15627a8e7a2"
      },
      "execution_count": null,
      "outputs": [
        {
          "output_type": "stream",
          "name": "stdout",
          "text": [
            "('shivam', 'vishwakarma')\n"
          ]
        }
      ]
    },
    {
      "cell_type": "code",
      "source": [
        "contact = name + (\"7999\", )\n",
        "print(contact)"
      ],
      "metadata": {
        "colab": {
          "base_uri": "https://localhost:8080/"
        },
        "id": "p_3Th7DH5N1e",
        "outputId": "9f0e080d-99e8-4d34-f5e9-416e3a566cdc"
      },
      "execution_count": null,
      "outputs": [
        {
          "output_type": "stream",
          "name": "stdout",
          "text": [
            "('shivam', 'vishwakarma', '7999')\n"
          ]
        }
      ]
    },
    {
      "cell_type": "code",
      "source": [
        "accessories = tuple(accessories)\n",
        "print(accessories)"
      ],
      "metadata": {
        "colab": {
          "base_uri": "https://localhost:8080/"
        },
        "id": "23ilUN8V5qQO",
        "outputId": "87fb10ec-77e2-4159-a5e3-a168227f60a1"
      },
      "execution_count": null,
      "outputs": [
        {
          "output_type": "stream",
          "name": "stdout",
          "text": [
            "('chocolates', 'DarkChocolate', 'laptop', 'phone', 'earbuds', 'wallet', 'speaker')\n"
          ]
        }
      ]
    },
    {
      "cell_type": "code",
      "source": [
        "def to_paise(price):\n",
        "  rupee = int(price // 1)\n",
        "  paisa = (price % 100)\n",
        "  return rupee, paisa\n",
        "\n"
      ],
      "metadata": {
        "id": "5tTJOVTK6HPe"
      },
      "execution_count": null,
      "outputs": []
    },
    {
      "cell_type": "code",
      "source": [
        "print(to_paise(100.05))\n"
      ],
      "metadata": {
        "colab": {
          "base_uri": "https://localhost:8080/"
        },
        "id": "ymPgDCnO6w0b",
        "outputId": "8f56d2e9-b613-40b7-a7e3-ecf13ed4b00c"
      },
      "execution_count": null,
      "outputs": [
        {
          "output_type": "stream",
          "name": "stdout",
          "text": [
            "(100, 0.04999999999999716)\n"
          ]
        }
      ]
    },
    {
      "cell_type": "code",
      "source": [
        "rate_list = {\n",
        "    \"ultra_sonic\" : 200,\n",
        "    \"pir\" : 150,\n",
        "    \"ardino\" : 600,\n",
        "    \"rasbarry_pi\" : 5000\n",
        "}\n",
        "print(rate_list['pir'])"
      ],
      "metadata": {
        "colab": {
          "base_uri": "https://localhost:8080/"
        },
        "id": "fgjjNbYiBByR",
        "outputId": "e0d89b72-8efe-44f9-b07b-0ea2504ff2e5"
      },
      "execution_count": null,
      "outputs": [
        {
          "output_type": "stream",
          "name": "stdout",
          "text": [
            "150\n"
          ]
        }
      ]
    },
    {
      "cell_type": "code",
      "source": [
        "print(\"pir\" in rate_list)"
      ],
      "metadata": {
        "colab": {
          "base_uri": "https://localhost:8080/"
        },
        "id": "eNdGjoElBf1o",
        "outputId": "57001027-6a52-422b-d72f-25b2e8edfd3d"
      },
      "execution_count": null,
      "outputs": [
        {
          "output_type": "stream",
          "name": "stdout",
          "text": [
            "True\n"
          ]
        }
      ]
    },
    {
      "cell_type": "code",
      "source": [
        "team = {\n",
        "    ('shivam', 24, 'badminton'),\n",
        "    ('ajit', 24, 'gym'),\n",
        "    ('bunty', 26, 'gym')\n",
        "}\n",
        "\n",
        "new_team = {}\n",
        "\n",
        "for name, age, hobby in team:\n",
        "  if hobby in new_team:\n",
        "    new_team[hobby].append((name, age))\n",
        "  else:\n",
        "    new_team[hobby] = [(name, age)]\n",
        "\n",
        "print(new_team)"
      ],
      "metadata": {
        "colab": {
          "base_uri": "https://localhost:8080/"
        },
        "id": "E_Vp-psQB8xH",
        "outputId": "fd9bd094-d66e-4649-9127-02b5dda86ad0"
      },
      "execution_count": null,
      "outputs": [
        {
          "output_type": "stream",
          "name": "stdout",
          "text": [
            "{'badminton': [('shivam', 24)], 'gym': [('ajit', 24), ('bunty', 26)]}\n"
          ]
        }
      ]
    },
    {
      "cell_type": "code",
      "source": [
        "print(new_team['badminton'])"
      ],
      "metadata": {
        "colab": {
          "base_uri": "https://localhost:8080/"
        },
        "id": "8uNDiOOSDe4S",
        "outputId": "83b2af17-11db-466b-d16b-20463a22d1c2"
      },
      "execution_count": null,
      "outputs": [
        {
          "output_type": "stream",
          "name": "stdout",
          "text": [
            "[('shivam', 24)]\n"
          ]
        }
      ]
    },
    {
      "cell_type": "code",
      "source": [
        "import numpy as np\n",
        "\n",
        "arr = np.array([1, 2, 3, 4])\n",
        "type(arr)"
      ],
      "metadata": {
        "colab": {
          "base_uri": "https://localhost:8080/"
        },
        "id": "Dzzw3jxMCNpv",
        "outputId": "63cfec83-a80e-47af-b3ff-1f69e5afa87d"
      },
      "execution_count": 1,
      "outputs": [
        {
          "output_type": "execute_result",
          "data": {
            "text/plain": [
              "numpy.ndarray"
            ]
          },
          "metadata": {},
          "execution_count": 1
        }
      ]
    }
  ]
}